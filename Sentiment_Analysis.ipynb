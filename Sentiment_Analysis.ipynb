{
  "cells": [
    {
      "cell_type": "code",
      "execution_count": 1,
      "metadata": {
        "colab": {
          "base_uri": "https://localhost:8080/"
        },
        "id": "d-uCmSnK9njN",
        "outputId": "007cb0c2-f6f7-48eb-989b-66728c6cee1a"
      },
      "outputs": [
        {
          "output_type": "stream",
          "name": "stdout",
          "text": [
            "Downloading from https://www.kaggle.com/api/v1/datasets/download/ankurzing/sentiment-analysis-for-financial-news?dataset_version_number=5...\n"
          ]
        },
        {
          "output_type": "stream",
          "name": "stderr",
          "text": [
            "100%|██████████| 903k/903k [00:00<00:00, 1.96MB/s]"
          ]
        },
        {
          "output_type": "stream",
          "name": "stdout",
          "text": [
            "Extracting files...\n"
          ]
        },
        {
          "output_type": "stream",
          "name": "stderr",
          "text": [
            "\n"
          ]
        },
        {
          "output_type": "stream",
          "name": "stdout",
          "text": [
            "Data source import complete.\n"
          ]
        }
      ],
      "source": [
        "import kagglehub\n",
        "ankurzing_sentiment_analysis_for_financial_news_path = kagglehub.dataset_download('ankurzing/sentiment-analysis-for-financial-news')\n",
        "\n",
        "print('Data source import complete.')\n"
      ]
    },
    {
      "cell_type": "code",
      "execution_count": null,
      "metadata": {
        "_cell_guid": "b1076dfc-b9ad-4769-8c92-a6c4dae69d19",
        "_uuid": "8f2839f25d086af736a60e9eeb907d3b93b6e0e5",
        "execution": {
          "iopub.execute_input": "2025-04-08T07:00:50.828954Z",
          "iopub.status.busy": "2025-04-08T07:00:50.828249Z",
          "iopub.status.idle": "2025-04-08T07:00:51.311199Z",
          "shell.execute_reply": "2025-04-08T07:00:51.309732Z",
          "shell.execute_reply.started": "2025-04-08T07:00:50.828893Z"
        },
        "id": "xqqAePbs9njR",
        "trusted": true
      },
      "outputs": [],
      "source": [
        "# This Python 3 environment comes with many helpful analytics libraries installed\n",
        "# It is defined by the kaggle/python Docker image: https://github.com/kaggle/docker-python\n",
        "# For example, here's several helpful packages to load\n",
        "\n",
        "import numpy as np # linear algebra\n",
        "import pandas as pd # data processing, CSV file I/O (e.g. pd.read_csv)\n",
        "\n",
        "# Input data files are available in the read-only \"../input/\" directory\n",
        "# For example, running this (by clicking run or pressing Shift+Enter) will list all files under the input directory\n",
        "\n",
        "import os\n",
        "for dirname, _, filenames in os.walk('/kaggle/input'):\n",
        "    for filename in filenames:\n",
        "        print(os.path.join(dirname, filename))\n",
        "\n",
        "# You can write up to 20GB to the current directory (/kaggle/working/) that gets preserved as output when you create a version using \"Save & Run All\"\n",
        "# You can also write temporary files to /kaggle/temp/, but they won't be saved outside of the current session"
      ]
    },
    {
      "cell_type": "code",
      "execution_count": null,
      "metadata": {
        "execution": {
          "iopub.execute_input": "2025-04-08T07:00:56.726827Z",
          "iopub.status.busy": "2025-04-08T07:00:56.726345Z",
          "iopub.status.idle": "2025-04-08T07:00:57.946032Z",
          "shell.execute_reply": "2025-04-08T07:00:57.944611Z",
          "shell.execute_reply.started": "2025-04-08T07:00:56.726797Z"
        },
        "id": "-fDN2eue9njS",
        "trusted": true
      },
      "outputs": [],
      "source": [
        "import numpy as np\n",
        "import pandas as pd\n",
        "import seaborn as sns\n",
        "\n",
        "from sklearn.model_selection import train_test_split"
      ]
    },
    {
      "cell_type": "code",
      "execution_count": null,
      "metadata": {
        "colab": {
          "base_uri": "https://localhost:8080/",
          "height": 287
        },
        "execution": {
          "iopub.execute_input": "2025-04-08T07:10:11.685577Z",
          "iopub.status.busy": "2025-04-08T07:10:11.685105Z",
          "iopub.status.idle": "2025-04-08T07:10:11.711991Z",
          "shell.execute_reply": "2025-04-08T07:10:11.71026Z",
          "shell.execute_reply.started": "2025-04-08T07:10:11.685518Z"
        },
        "id": "QwZD0Maz9njT",
        "outputId": "1a12ee53-131a-43ee-fb65-8a5cec32b667",
        "trusted": true
      },
      "outputs": [
        {
          "ename": "FileNotFoundError",
          "evalue": "[Errno 2] No such file or directory: '/kaggle/input/sentiment-analysis-for-financial-news/all-data.csv'",
          "output_type": "error",
          "traceback": [
            "\u001b[0;31m---------------------------------------------------------------------------\u001b[0m",
            "\u001b[0;31mFileNotFoundError\u001b[0m                         Traceback (most recent call last)",
            "\u001b[0;32m<ipython-input-6-b2dfa26820d5>\u001b[0m in \u001b[0;36m<cell line: 0>\u001b[0;34m()\u001b[0m\n\u001b[0;32m----> 1\u001b[0;31m \u001b[0mdataset\u001b[0m \u001b[0;34m=\u001b[0m \u001b[0mpd\u001b[0m\u001b[0;34m.\u001b[0m\u001b[0mread_csv\u001b[0m\u001b[0;34m(\u001b[0m\u001b[0;34m'/kaggle/input/sentiment-analysis-for-financial-news/all-data.csv'\u001b[0m\u001b[0;34m,\u001b[0m \u001b[0mencoding\u001b[0m\u001b[0;34m=\u001b[0m\u001b[0;34m'ISO-8859-1'\u001b[0m\u001b[0;34m)\u001b[0m\u001b[0;34m\u001b[0m\u001b[0;34m\u001b[0m\u001b[0m\n\u001b[0m",
            "\u001b[0;32m/usr/local/lib/python3.11/dist-packages/pandas/io/parsers/readers.py\u001b[0m in \u001b[0;36mread_csv\u001b[0;34m(filepath_or_buffer, sep, delimiter, header, names, index_col, usecols, dtype, engine, converters, true_values, false_values, skipinitialspace, skiprows, skipfooter, nrows, na_values, keep_default_na, na_filter, verbose, skip_blank_lines, parse_dates, infer_datetime_format, keep_date_col, date_parser, date_format, dayfirst, cache_dates, iterator, chunksize, compression, thousands, decimal, lineterminator, quotechar, quoting, doublequote, escapechar, comment, encoding, encoding_errors, dialect, on_bad_lines, delim_whitespace, low_memory, memory_map, float_precision, storage_options, dtype_backend)\u001b[0m\n\u001b[1;32m   1024\u001b[0m     \u001b[0mkwds\u001b[0m\u001b[0;34m.\u001b[0m\u001b[0mupdate\u001b[0m\u001b[0;34m(\u001b[0m\u001b[0mkwds_defaults\u001b[0m\u001b[0;34m)\u001b[0m\u001b[0;34m\u001b[0m\u001b[0;34m\u001b[0m\u001b[0m\n\u001b[1;32m   1025\u001b[0m \u001b[0;34m\u001b[0m\u001b[0m\n\u001b[0;32m-> 1026\u001b[0;31m     \u001b[0;32mreturn\u001b[0m \u001b[0m_read\u001b[0m\u001b[0;34m(\u001b[0m\u001b[0mfilepath_or_buffer\u001b[0m\u001b[0;34m,\u001b[0m \u001b[0mkwds\u001b[0m\u001b[0;34m)\u001b[0m\u001b[0;34m\u001b[0m\u001b[0;34m\u001b[0m\u001b[0m\n\u001b[0m\u001b[1;32m   1027\u001b[0m \u001b[0;34m\u001b[0m\u001b[0m\n\u001b[1;32m   1028\u001b[0m \u001b[0;34m\u001b[0m\u001b[0m\n",
            "\u001b[0;32m/usr/local/lib/python3.11/dist-packages/pandas/io/parsers/readers.py\u001b[0m in \u001b[0;36m_read\u001b[0;34m(filepath_or_buffer, kwds)\u001b[0m\n\u001b[1;32m    618\u001b[0m \u001b[0;34m\u001b[0m\u001b[0m\n\u001b[1;32m    619\u001b[0m     \u001b[0;31m# Create the parser.\u001b[0m\u001b[0;34m\u001b[0m\u001b[0;34m\u001b[0m\u001b[0m\n\u001b[0;32m--> 620\u001b[0;31m     \u001b[0mparser\u001b[0m \u001b[0;34m=\u001b[0m \u001b[0mTextFileReader\u001b[0m\u001b[0;34m(\u001b[0m\u001b[0mfilepath_or_buffer\u001b[0m\u001b[0;34m,\u001b[0m \u001b[0;34m**\u001b[0m\u001b[0mkwds\u001b[0m\u001b[0;34m)\u001b[0m\u001b[0;34m\u001b[0m\u001b[0;34m\u001b[0m\u001b[0m\n\u001b[0m\u001b[1;32m    621\u001b[0m \u001b[0;34m\u001b[0m\u001b[0m\n\u001b[1;32m    622\u001b[0m     \u001b[0;32mif\u001b[0m \u001b[0mchunksize\u001b[0m \u001b[0;32mor\u001b[0m \u001b[0miterator\u001b[0m\u001b[0;34m:\u001b[0m\u001b[0;34m\u001b[0m\u001b[0;34m\u001b[0m\u001b[0m\n",
            "\u001b[0;32m/usr/local/lib/python3.11/dist-packages/pandas/io/parsers/readers.py\u001b[0m in \u001b[0;36m__init__\u001b[0;34m(self, f, engine, **kwds)\u001b[0m\n\u001b[1;32m   1618\u001b[0m \u001b[0;34m\u001b[0m\u001b[0m\n\u001b[1;32m   1619\u001b[0m         \u001b[0mself\u001b[0m\u001b[0;34m.\u001b[0m\u001b[0mhandles\u001b[0m\u001b[0;34m:\u001b[0m \u001b[0mIOHandles\u001b[0m \u001b[0;34m|\u001b[0m \u001b[0;32mNone\u001b[0m \u001b[0;34m=\u001b[0m \u001b[0;32mNone\u001b[0m\u001b[0;34m\u001b[0m\u001b[0;34m\u001b[0m\u001b[0m\n\u001b[0;32m-> 1620\u001b[0;31m         \u001b[0mself\u001b[0m\u001b[0;34m.\u001b[0m\u001b[0m_engine\u001b[0m \u001b[0;34m=\u001b[0m \u001b[0mself\u001b[0m\u001b[0;34m.\u001b[0m\u001b[0m_make_engine\u001b[0m\u001b[0;34m(\u001b[0m\u001b[0mf\u001b[0m\u001b[0;34m,\u001b[0m \u001b[0mself\u001b[0m\u001b[0;34m.\u001b[0m\u001b[0mengine\u001b[0m\u001b[0;34m)\u001b[0m\u001b[0;34m\u001b[0m\u001b[0;34m\u001b[0m\u001b[0m\n\u001b[0m\u001b[1;32m   1621\u001b[0m \u001b[0;34m\u001b[0m\u001b[0m\n\u001b[1;32m   1622\u001b[0m     \u001b[0;32mdef\u001b[0m \u001b[0mclose\u001b[0m\u001b[0;34m(\u001b[0m\u001b[0mself\u001b[0m\u001b[0;34m)\u001b[0m \u001b[0;34m->\u001b[0m \u001b[0;32mNone\u001b[0m\u001b[0;34m:\u001b[0m\u001b[0;34m\u001b[0m\u001b[0;34m\u001b[0m\u001b[0m\n",
            "\u001b[0;32m/usr/local/lib/python3.11/dist-packages/pandas/io/parsers/readers.py\u001b[0m in \u001b[0;36m_make_engine\u001b[0;34m(self, f, engine)\u001b[0m\n\u001b[1;32m   1878\u001b[0m                 \u001b[0;32mif\u001b[0m \u001b[0;34m\"b\"\u001b[0m \u001b[0;32mnot\u001b[0m \u001b[0;32min\u001b[0m \u001b[0mmode\u001b[0m\u001b[0;34m:\u001b[0m\u001b[0;34m\u001b[0m\u001b[0;34m\u001b[0m\u001b[0m\n\u001b[1;32m   1879\u001b[0m                     \u001b[0mmode\u001b[0m \u001b[0;34m+=\u001b[0m \u001b[0;34m\"b\"\u001b[0m\u001b[0;34m\u001b[0m\u001b[0;34m\u001b[0m\u001b[0m\n\u001b[0;32m-> 1880\u001b[0;31m             self.handles = get_handle(\n\u001b[0m\u001b[1;32m   1881\u001b[0m                 \u001b[0mf\u001b[0m\u001b[0;34m,\u001b[0m\u001b[0;34m\u001b[0m\u001b[0;34m\u001b[0m\u001b[0m\n\u001b[1;32m   1882\u001b[0m                 \u001b[0mmode\u001b[0m\u001b[0;34m,\u001b[0m\u001b[0;34m\u001b[0m\u001b[0;34m\u001b[0m\u001b[0m\n",
            "\u001b[0;32m/usr/local/lib/python3.11/dist-packages/pandas/io/common.py\u001b[0m in \u001b[0;36mget_handle\u001b[0;34m(path_or_buf, mode, encoding, compression, memory_map, is_text, errors, storage_options)\u001b[0m\n\u001b[1;32m    871\u001b[0m         \u001b[0;32mif\u001b[0m \u001b[0mioargs\u001b[0m\u001b[0;34m.\u001b[0m\u001b[0mencoding\u001b[0m \u001b[0;32mand\u001b[0m \u001b[0;34m\"b\"\u001b[0m \u001b[0;32mnot\u001b[0m \u001b[0;32min\u001b[0m \u001b[0mioargs\u001b[0m\u001b[0;34m.\u001b[0m\u001b[0mmode\u001b[0m\u001b[0;34m:\u001b[0m\u001b[0;34m\u001b[0m\u001b[0;34m\u001b[0m\u001b[0m\n\u001b[1;32m    872\u001b[0m             \u001b[0;31m# Encoding\u001b[0m\u001b[0;34m\u001b[0m\u001b[0;34m\u001b[0m\u001b[0m\n\u001b[0;32m--> 873\u001b[0;31m             handle = open(\n\u001b[0m\u001b[1;32m    874\u001b[0m                 \u001b[0mhandle\u001b[0m\u001b[0;34m,\u001b[0m\u001b[0;34m\u001b[0m\u001b[0;34m\u001b[0m\u001b[0m\n\u001b[1;32m    875\u001b[0m                 \u001b[0mioargs\u001b[0m\u001b[0;34m.\u001b[0m\u001b[0mmode\u001b[0m\u001b[0;34m,\u001b[0m\u001b[0;34m\u001b[0m\u001b[0;34m\u001b[0m\u001b[0m\n",
            "\u001b[0;31mFileNotFoundError\u001b[0m: [Errno 2] No such file or directory: '/kaggle/input/sentiment-analysis-for-financial-news/all-data.csv'"
          ]
        }
      ],
      "source": [
        "dataset = pd.read_csv('/kaggle/input/sentiment-analysis-for-financial-news/all-data.csv', encoding='ISO-8859-1')"
      ]
    },
    {
      "cell_type": "code",
      "execution_count": null,
      "metadata": {
        "colab": {
          "base_uri": "https://localhost:8080/",
          "height": 141
        },
        "execution": {
          "iopub.execute_input": "2025-04-08T07:10:18.37162Z",
          "iopub.status.busy": "2025-04-08T07:10:18.37124Z",
          "iopub.status.idle": "2025-04-08T07:10:18.380846Z",
          "shell.execute_reply": "2025-04-08T07:10:18.379645Z",
          "shell.execute_reply.started": "2025-04-08T07:10:18.371591Z"
        },
        "id": "-eBsfTyK9njU",
        "outputId": "b1f6f5c8-9ecf-45d2-b946-1793e272d239",
        "trusted": true
      },
      "outputs": [
        {
          "ename": "NameError",
          "evalue": "name 'dataset' is not defined",
          "output_type": "error",
          "traceback": [
            "\u001b[0;31m---------------------------------------------------------------------------\u001b[0m",
            "\u001b[0;31mNameError\u001b[0m                                 Traceback (most recent call last)",
            "\u001b[0;32m<ipython-input-7-4d23e20d3ff9>\u001b[0m in \u001b[0;36m<cell line: 0>\u001b[0;34m()\u001b[0m\n\u001b[0;32m----> 1\u001b[0;31m \u001b[0mdataset\u001b[0m\u001b[0;34m.\u001b[0m\u001b[0mhead\u001b[0m\u001b[0;34m(\u001b[0m\u001b[0;34m)\u001b[0m\u001b[0;31m# To print Top 5 Rows\u001b[0m\u001b[0;34m\u001b[0m\u001b[0;34m\u001b[0m\u001b[0m\n\u001b[0m",
            "\u001b[0;31mNameError\u001b[0m: name 'dataset' is not defined"
          ]
        }
      ],
      "source": [
        "dataset.head()# To print Top 5 Rows"
      ]
    },
    {
      "cell_type": "code",
      "execution_count": null,
      "metadata": {
        "execution": {
          "iopub.execute_input": "2025-04-08T07:13:55.578803Z",
          "iopub.status.busy": "2025-04-08T07:13:55.578378Z",
          "iopub.status.idle": "2025-04-08T07:13:55.585079Z",
          "shell.execute_reply": "2025-04-08T07:13:55.58404Z",
          "shell.execute_reply.started": "2025-04-08T07:13:55.57877Z"
        },
        "id": "LELVBWHD9njU",
        "trusted": true
      },
      "outputs": [],
      "source": [
        "new = dataset.columns[0]\n",
        "new                          #Prints first coloumn name (inplace=True)"
      ]
    },
    {
      "cell_type": "code",
      "execution_count": null,
      "metadata": {
        "execution": {
          "iopub.execute_input": "2025-04-08T07:13:39.031133Z",
          "iopub.status.busy": "2025-04-08T07:13:39.030801Z",
          "iopub.status.idle": "2025-04-08T07:13:39.037068Z",
          "shell.execute_reply": "2025-04-08T07:13:39.036017Z",
          "shell.execute_reply.started": "2025-04-08T07:13:39.031106Z"
        },
        "id": "BHcP60VK9njV",
        "trusted": true
      },
      "outputs": [],
      "source": [
        "dataset.columns[1] # Prints Second coloumn name (inplace=True)"
      ]
    },
    {
      "cell_type": "code",
      "execution_count": null,
      "metadata": {
        "execution": {
          "iopub.execute_input": "2025-04-08T07:10:49.650739Z",
          "iopub.status.busy": "2025-04-08T07:10:49.650376Z",
          "iopub.status.idle": "2025-04-08T07:10:49.657076Z",
          "shell.execute_reply": "2025-04-08T07:10:49.655705Z",
          "shell.execute_reply.started": "2025-04-08T07:10:49.650708Z"
        },
        "id": "gZIEEHBH9njV",
        "trusted": true
      },
      "outputs": [],
      "source": [
        "# Rename a column\n",
        "dataset = dataset.rename(columns={'neutral': 'Sentiment'})\n",
        "dataset = dataset.rename(columns={'According to Gran , the company has no plans to move all production to Russia , although that is where the company is growing .': 'Sentence'})"
      ]
    },
    {
      "cell_type": "code",
      "execution_count": null,
      "metadata": {
        "execution": {
          "iopub.execute_input": "2025-04-08T07:10:56.228875Z",
          "iopub.status.busy": "2025-04-08T07:10:56.228475Z",
          "iopub.status.idle": "2025-04-08T07:10:56.238238Z",
          "shell.execute_reply": "2025-04-08T07:10:56.236984Z",
          "shell.execute_reply.started": "2025-04-08T07:10:56.228845Z"
        },
        "id": "9rk8GSMt9njZ",
        "trusted": true
      },
      "outputs": [],
      "source": [
        "dataset.head()"
      ]
    },
    {
      "cell_type": "code",
      "execution_count": null,
      "metadata": {
        "execution": {
          "iopub.execute_input": "2025-04-08T07:04:36.633781Z",
          "iopub.status.busy": "2025-04-08T07:04:36.633402Z",
          "iopub.status.idle": "2025-04-08T07:04:36.648459Z",
          "shell.execute_reply": "2025-04-08T07:04:36.647369Z",
          "shell.execute_reply.started": "2025-04-08T07:04:36.63375Z"
        },
        "id": "dCPXoE3S9nja",
        "trusted": true
      },
      "outputs": [],
      "source": [
        "dataset['Sentiment'].value_counts()"
      ]
    },
    {
      "cell_type": "code",
      "execution_count": null,
      "metadata": {
        "execution": {
          "iopub.execute_input": "2025-04-08T07:04:41.001601Z",
          "iopub.status.busy": "2025-04-08T07:04:41.001215Z",
          "iopub.status.idle": "2025-04-08T07:04:41.329573Z",
          "shell.execute_reply": "2025-04-08T07:04:41.32802Z",
          "shell.execute_reply.started": "2025-04-08T07:04:41.001569Z"
        },
        "id": "m_a1E0BD9nja",
        "trusted": true
      },
      "outputs": [],
      "source": [
        "sns.countplot(data=dataset,x='Sentiment')"
      ]
    },
    {
      "cell_type": "code",
      "execution_count": null,
      "metadata": {
        "execution": {
          "iopub.execute_input": "2025-04-08T07:03:44.112642Z",
          "iopub.status.busy": "2025-04-08T07:03:44.112235Z",
          "iopub.status.idle": "2025-04-08T07:03:44.119706Z",
          "shell.execute_reply": "2025-04-08T07:03:44.118154Z",
          "shell.execute_reply.started": "2025-04-08T07:03:44.11261Z"
        },
        "id": "bBr07eiK9njb",
        "trusted": true
      },
      "outputs": [],
      "source": [
        "dataset.shape"
      ]
    },
    {
      "cell_type": "code",
      "execution_count": null,
      "metadata": {
        "execution": {
          "iopub.execute_input": "2025-04-08T07:04:52.27523Z",
          "iopub.status.busy": "2025-04-08T07:04:52.274805Z",
          "iopub.status.idle": "2025-04-08T07:04:52.292004Z",
          "shell.execute_reply": "2025-04-08T07:04:52.29077Z",
          "shell.execute_reply.started": "2025-04-08T07:04:52.275194Z"
        },
        "id": "fPYxtN-x9njb",
        "trusted": true
      },
      "outputs": [],
      "source": [
        "dataset.info()"
      ]
    },
    {
      "cell_type": "code",
      "execution_count": null,
      "metadata": {
        "execution": {
          "iopub.execute_input": "2025-04-08T07:04:57.612949Z",
          "iopub.status.busy": "2025-04-08T07:04:57.612589Z",
          "iopub.status.idle": "2025-04-08T07:04:57.631163Z",
          "shell.execute_reply": "2025-04-08T07:04:57.629884Z",
          "shell.execute_reply.started": "2025-04-08T07:04:57.612919Z"
        },
        "id": "9ZKpNdPH9njb",
        "trusted": true
      },
      "outputs": [],
      "source": [
        "dataset.describe()"
      ]
    },
    {
      "cell_type": "code",
      "execution_count": null,
      "metadata": {
        "execution": {
          "iopub.execute_input": "2025-04-05T14:59:36.21996Z",
          "iopub.status.busy": "2025-04-05T14:59:36.219607Z",
          "iopub.status.idle": "2025-04-05T14:59:36.238633Z",
          "shell.execute_reply": "2025-04-05T14:59:36.237618Z",
          "shell.execute_reply.started": "2025-04-05T14:59:36.219924Z"
        },
        "id": "2G7frvyG9njc",
        "trusted": true
      },
      "outputs": [],
      "source": [
        "dataset.isnull().sum()"
      ]
    },
    {
      "cell_type": "code",
      "execution_count": null,
      "metadata": {
        "execution": {
          "iopub.execute_input": "2025-04-08T07:06:01.538287Z",
          "iopub.status.busy": "2025-04-08T07:06:01.537947Z",
          "iopub.status.idle": "2025-04-08T07:06:01.54871Z",
          "shell.execute_reply": "2025-04-08T07:06:01.547602Z",
          "shell.execute_reply.started": "2025-04-08T07:06:01.538261Z"
        },
        "id": "J0cd6wCw9njc",
        "trusted": true
      },
      "outputs": [],
      "source": [
        "dataset = dataset.drop_duplicates()"
      ]
    },
    {
      "cell_type": "code",
      "execution_count": null,
      "metadata": {
        "execution": {
          "iopub.execute_input": "2025-04-05T14:59:36.259607Z",
          "iopub.status.busy": "2025-04-05T14:59:36.259324Z",
          "iopub.status.idle": "2025-04-05T14:59:36.265029Z",
          "shell.execute_reply": "2025-04-05T14:59:36.264094Z",
          "shell.execute_reply.started": "2025-04-05T14:59:36.259582Z"
        },
        "id": "Dqtsr18o9njc",
        "trusted": true
      },
      "outputs": [],
      "source": [
        "# dataset = dataset.reset_index()"
      ]
    },
    {
      "cell_type": "code",
      "execution_count": null,
      "metadata": {
        "execution": {
          "iopub.execute_input": "2025-04-05T14:59:36.266388Z",
          "iopub.status.busy": "2025-04-05T14:59:36.266017Z",
          "iopub.status.idle": "2025-04-05T14:59:36.282583Z",
          "shell.execute_reply": "2025-04-05T14:59:36.281634Z",
          "shell.execute_reply.started": "2025-04-05T14:59:36.266353Z"
        },
        "id": "QPEcgjnG9njd",
        "trusted": true
      },
      "outputs": [],
      "source": [
        "dataset.shape"
      ]
    },
    {
      "cell_type": "code",
      "execution_count": null,
      "metadata": {
        "execution": {
          "iopub.execute_input": "2025-04-05T14:59:36.283885Z",
          "iopub.status.busy": "2025-04-05T14:59:36.283565Z",
          "iopub.status.idle": "2025-04-05T14:59:36.445928Z",
          "shell.execute_reply": "2025-04-05T14:59:36.44505Z",
          "shell.execute_reply.started": "2025-04-05T14:59:36.283859Z"
        },
        "id": "B8laz2D29njd",
        "trusted": true
      },
      "outputs": [],
      "source": [
        "sns.countplot(data=dataset,x='Sentiment')"
      ]
    },
    {
      "cell_type": "code",
      "execution_count": null,
      "metadata": {
        "execution": {
          "iopub.execute_input": "2025-04-05T14:59:36.447117Z",
          "iopub.status.busy": "2025-04-05T14:59:36.446875Z",
          "iopub.status.idle": "2025-04-05T14:59:36.454315Z",
          "shell.execute_reply": "2025-04-05T14:59:36.453386Z",
          "shell.execute_reply.started": "2025-04-05T14:59:36.447097Z"
        },
        "id": "S0kTKKu59njd",
        "trusted": true
      },
      "outputs": [],
      "source": [
        "dataset['Sentiment'].value_counts()"
      ]
    },
    {
      "cell_type": "code",
      "execution_count": null,
      "metadata": {
        "execution": {
          "iopub.execute_input": "2025-04-08T07:08:17.991965Z",
          "iopub.status.busy": "2025-04-08T07:08:17.991598Z",
          "iopub.status.idle": "2025-04-08T07:08:18.007432Z",
          "shell.execute_reply": "2025-04-08T07:08:18.005767Z",
          "shell.execute_reply.started": "2025-04-08T07:08:17.991936Z"
        },
        "id": "658gr0jH9nje",
        "trusted": true
      },
      "outputs": [],
      "source": [
        "## MultiOutputClassifier\n",
        "df = dataset.copy()\n",
        "new = pd.get_dummies(df, columns=['Sentiment'],dtype=float)\n",
        "for col in new:\n",
        "    if new[col].dtype == 'float64':\n",
        "        new[col]=new[col].astype(int)"
      ]
    },
    {
      "cell_type": "code",
      "execution_count": null,
      "metadata": {
        "execution": {
          "iopub.execute_input": "2025-04-08T07:08:23.359493Z",
          "iopub.status.busy": "2025-04-08T07:08:23.359117Z",
          "iopub.status.idle": "2025-04-08T07:08:23.364887Z",
          "shell.execute_reply": "2025-04-08T07:08:23.363753Z",
          "shell.execute_reply.started": "2025-04-08T07:08:23.359463Z"
        },
        "id": "QfeFr5Ml9nje",
        "trusted": true
      },
      "outputs": [],
      "source": [
        "dataset.replace({'Sentiment':{'neutral':0,'negative':-1,'positive':1}},inplace=True)"
      ]
    },
    {
      "cell_type": "code",
      "execution_count": null,
      "metadata": {
        "execution": {
          "iopub.execute_input": "2025-04-08T07:08:28.601671Z",
          "iopub.status.busy": "2025-04-08T07:08:28.601248Z",
          "iopub.status.idle": "2025-04-08T07:08:28.610852Z",
          "shell.execute_reply": "2025-04-08T07:08:28.609228Z",
          "shell.execute_reply.started": "2025-04-08T07:08:28.60164Z"
        },
        "id": "saqsfbSK9nje",
        "trusted": true
      },
      "outputs": [],
      "source": [
        "dataset.isnull().sum()"
      ]
    },
    {
      "cell_type": "code",
      "execution_count": null,
      "metadata": {
        "execution": {
          "iopub.execute_input": "2025-04-08T07:08:38.998958Z",
          "iopub.status.busy": "2025-04-08T07:08:38.998594Z",
          "iopub.status.idle": "2025-04-08T07:08:39.005392Z",
          "shell.execute_reply": "2025-04-08T07:08:39.003806Z",
          "shell.execute_reply.started": "2025-04-08T07:08:38.998929Z"
        },
        "id": "PzGLuqt29njf",
        "trusted": true
      },
      "outputs": [],
      "source": [
        "dataset = dataset.reset_index()"
      ]
    },
    {
      "cell_type": "code",
      "execution_count": null,
      "metadata": {
        "execution": {
          "iopub.execute_input": "2025-04-05T14:59:36.530565Z",
          "iopub.status.busy": "2025-04-05T14:59:36.530288Z",
          "iopub.status.idle": "2025-04-05T14:59:36.551527Z",
          "shell.execute_reply": "2025-04-05T14:59:36.550506Z",
          "shell.execute_reply.started": "2025-04-05T14:59:36.530507Z"
        },
        "id": "wNdBY_rP9njf",
        "trusted": true
      },
      "outputs": [],
      "source": [
        "dataset.head(10)"
      ]
    },
    {
      "cell_type": "code",
      "execution_count": null,
      "metadata": {
        "execution": {
          "iopub.execute_input": "2025-04-08T07:08:48.149848Z",
          "iopub.status.busy": "2025-04-08T07:08:48.149491Z",
          "iopub.status.idle": "2025-04-08T07:08:48.154941Z",
          "shell.execute_reply": "2025-04-08T07:08:48.153682Z",
          "shell.execute_reply.started": "2025-04-08T07:08:48.149822Z"
        },
        "id": "X31Ag5Y29njf",
        "trusted": true
      },
      "outputs": [],
      "source": [
        "Y = dataset['Sentiment']\n",
        "X = dataset['Sentence']"
      ]
    },
    {
      "cell_type": "code",
      "execution_count": null,
      "metadata": {
        "execution": {
          "iopub.execute_input": "2025-04-08T07:08:53.866074Z",
          "iopub.status.busy": "2025-04-08T07:08:53.865636Z",
          "iopub.status.idle": "2025-04-08T07:08:53.873597Z",
          "shell.execute_reply": "2025-04-08T07:08:53.872448Z",
          "shell.execute_reply.started": "2025-04-08T07:08:53.86604Z"
        },
        "id": "54hrwbUO9njf",
        "trusted": true
      },
      "outputs": [],
      "source": [
        "Y"
      ]
    },
    {
      "cell_type": "code",
      "execution_count": null,
      "metadata": {
        "execution": {
          "iopub.execute_input": "2025-04-08T07:08:58.213428Z",
          "iopub.status.busy": "2025-04-08T07:08:58.213061Z",
          "iopub.status.idle": "2025-04-08T07:08:58.222706Z",
          "shell.execute_reply": "2025-04-08T07:08:58.220493Z",
          "shell.execute_reply.started": "2025-04-08T07:08:58.213399Z"
        },
        "id": "ismESHjt9njg",
        "trusted": true
      },
      "outputs": [],
      "source": [
        "X"
      ]
    },
    {
      "cell_type": "markdown",
      "metadata": {
        "id": "I_Toy3xX9njg"
      },
      "source": [
        "## Text cleaning using NLTK"
      ]
    },
    {
      "cell_type": "code",
      "execution_count": null,
      "metadata": {
        "execution": {
          "iopub.execute_input": "2025-04-05T14:59:36.609018Z",
          "iopub.status.busy": "2025-04-05T14:59:36.608755Z",
          "iopub.status.idle": "2025-04-05T14:59:37.395949Z",
          "shell.execute_reply": "2025-04-05T14:59:37.395085Z",
          "shell.execute_reply.started": "2025-04-05T14:59:36.608994Z"
        },
        "id": "XGtS_8Ol9njj",
        "trusted": true
      },
      "outputs": [],
      "source": [
        "import re\n",
        "import nltk\n",
        "from nltk.stem import PorterStemmer\n",
        "from nltk.corpus import stopwords"
      ]
    },
    {
      "cell_type": "code",
      "execution_count": null,
      "metadata": {
        "execution": {
          "iopub.execute_input": "2025-04-05T14:59:37.397338Z",
          "iopub.status.busy": "2025-04-05T14:59:37.396978Z",
          "iopub.status.idle": "2025-04-05T14:59:37.401572Z",
          "shell.execute_reply": "2025-04-05T14:59:37.400501Z",
          "shell.execute_reply.started": "2025-04-05T14:59:37.397303Z"
        },
        "id": "iCh5edoP9njk",
        "trusted": true
      },
      "outputs": [],
      "source": [
        "stemmer = PorterStemmer()"
      ]
    },
    {
      "cell_type": "code",
      "execution_count": null,
      "metadata": {
        "execution": {
          "iopub.execute_input": "2025-04-05T14:59:37.402722Z",
          "iopub.status.busy": "2025-04-05T14:59:37.402409Z",
          "iopub.status.idle": "2025-04-05T14:59:37.418052Z",
          "shell.execute_reply": "2025-04-05T14:59:37.417027Z",
          "shell.execute_reply.started": "2025-04-05T14:59:37.402698Z"
        },
        "id": "QvfvV2gn9njk",
        "trusted": true
      },
      "outputs": [],
      "source": [
        "def text_clean(data):\n",
        "    corpus = []\n",
        "    for i in range(len(data)):\n",
        "        review = re.sub(\"[^a-zA-Z0-9]\",\" \",data[i])\n",
        "        review = review.lower()\n",
        "        review = review.split()\n",
        "        review = [stemmer.stem(words) for words in review if words not in set(stopwords.words('english'))]\n",
        "        review = \" \".join(review)\n",
        "        corpus.append(review)\n",
        "    return corpus"
      ]
    },
    {
      "cell_type": "code",
      "execution_count": null,
      "metadata": {
        "execution": {
          "iopub.execute_input": "2025-04-05T14:59:37.419402Z",
          "iopub.status.busy": "2025-04-05T14:59:37.419035Z",
          "iopub.status.idle": "2025-04-05T14:59:51.565594Z",
          "shell.execute_reply": "2025-04-05T14:59:51.564315Z",
          "shell.execute_reply.started": "2025-04-05T14:59:37.419368Z"
        },
        "id": "WJhLTPmu9njk",
        "trusted": true
      },
      "outputs": [],
      "source": [
        "X = text_clean(X)\n",
        "X = np.array(X)"
      ]
    },
    {
      "cell_type": "code",
      "execution_count": null,
      "metadata": {
        "execution": {
          "iopub.execute_input": "2025-04-05T14:59:51.566934Z",
          "iopub.status.busy": "2025-04-05T14:59:51.566653Z",
          "iopub.status.idle": "2025-04-05T14:59:51.57788Z",
          "shell.execute_reply": "2025-04-05T14:59:51.576992Z",
          "shell.execute_reply.started": "2025-04-05T14:59:51.566909Z"
        },
        "id": "TpTuXICP9njl",
        "trusted": true
      },
      "outputs": [],
      "source": [
        "X_train,X_test,y_train,y_test = train_test_split(X,Y,test_size=0.2,random_state=42)"
      ]
    },
    {
      "cell_type": "code",
      "execution_count": null,
      "metadata": {
        "execution": {
          "iopub.execute_input": "2025-04-05T14:59:51.578912Z",
          "iopub.status.busy": "2025-04-05T14:59:51.578644Z",
          "iopub.status.idle": "2025-04-05T14:59:51.594613Z",
          "shell.execute_reply": "2025-04-05T14:59:51.593642Z",
          "shell.execute_reply.started": "2025-04-05T14:59:51.57889Z"
        },
        "id": "6-hrsbIW9njl",
        "trusted": true
      },
      "outputs": [],
      "source": [
        "print(X_train.shape,X_test.shape,y_train.shape)"
      ]
    },
    {
      "cell_type": "markdown",
      "metadata": {
        "id": "6P4z0VFO9njm"
      },
      "source": [
        "# Text to vector conversion"
      ]
    },
    {
      "cell_type": "markdown",
      "metadata": {
        "id": "Bp0s3DZr9njm"
      },
      "source": [
        "## Using Count Vector"
      ]
    },
    {
      "cell_type": "code",
      "execution_count": null,
      "metadata": {
        "execution": {
          "iopub.execute_input": "2025-04-05T14:59:51.595763Z",
          "iopub.status.busy": "2025-04-05T14:59:51.595491Z",
          "iopub.status.idle": "2025-04-05T14:59:51.700012Z",
          "shell.execute_reply": "2025-04-05T14:59:51.699026Z",
          "shell.execute_reply.started": "2025-04-05T14:59:51.59574Z"
        },
        "id": "4CqHWeV79njm",
        "trusted": true
      },
      "outputs": [],
      "source": [
        "from sklearn.feature_extraction.text import CountVectorizer\n",
        "vectorizer = CountVectorizer()\n",
        "X_train_vectorized = vectorizer.fit_transform(X_train)\n",
        "X_test_vectorized = vectorizer.transform(X_test)"
      ]
    },
    {
      "cell_type": "code",
      "execution_count": null,
      "metadata": {
        "execution": {
          "iopub.execute_input": "2025-04-05T14:59:51.701134Z",
          "iopub.status.busy": "2025-04-05T14:59:51.700889Z",
          "iopub.status.idle": "2025-04-05T14:59:51.704794Z",
          "shell.execute_reply": "2025-04-05T14:59:51.703814Z",
          "shell.execute_reply.started": "2025-04-05T14:59:51.701113Z"
        },
        "id": "sxs-5nQO9njm",
        "trusted": true
      },
      "outputs": [],
      "source": [
        "# X_train_vectorized = np.array(X_train_vectorized)\n",
        "# X_train_vectorized"
      ]
    },
    {
      "cell_type": "markdown",
      "metadata": {
        "id": "V1bghEXk9njw"
      },
      "source": [
        "### Logistic Regression"
      ]
    },
    {
      "cell_type": "code",
      "execution_count": null,
      "metadata": {
        "execution": {
          "iopub.execute_input": "2025-04-05T14:59:51.706135Z",
          "iopub.status.busy": "2025-04-05T14:59:51.705796Z",
          "iopub.status.idle": "2025-04-05T14:59:52.085461Z",
          "shell.execute_reply": "2025-04-05T14:59:52.084492Z",
          "shell.execute_reply.started": "2025-04-05T14:59:51.706102Z"
        },
        "id": "wXEkeSws9njx",
        "trusted": true
      },
      "outputs": [],
      "source": [
        "from sklearn.metrics import accuracy_score, classification_report,confusion_matrix\n",
        "from sklearn.linear_model import LogisticRegression\n",
        "\n",
        "regressor = LogisticRegression(max_iter=5000)\n",
        "regressor.fit(X_train_vectorized,y_train)\n",
        "\n",
        "x_test_pred = regressor.predict(X_test_vectorized)\n",
        "x_test_accuracy = accuracy_score(x_test_pred,y_test)\n",
        "\n",
        "print(\"The accuracy of test set is: {}\".format(x_test_accuracy))"
      ]
    },
    {
      "cell_type": "code",
      "execution_count": null,
      "metadata": {
        "execution": {
          "iopub.execute_input": "2025-04-05T14:59:52.086816Z",
          "iopub.status.busy": "2025-04-05T14:59:52.08646Z",
          "iopub.status.idle": "2025-04-05T14:59:52.090613Z",
          "shell.execute_reply": "2025-04-05T14:59:52.089634Z",
          "shell.execute_reply.started": "2025-04-05T14:59:52.086783Z"
        },
        "id": "J-6Fau7R9njx",
        "trusted": true
      },
      "outputs": [],
      "source": [
        "# cm = confusion_matrix(y_test, x_test_pred)\n",
        "# cm"
      ]
    },
    {
      "cell_type": "markdown",
      "metadata": {
        "id": "mdtPqI0v9njx"
      },
      "source": [
        "## MultiOutputClassifier(LogisticRegression)"
      ]
    },
    {
      "cell_type": "code",
      "execution_count": null,
      "metadata": {
        "execution": {
          "iopub.execute_input": "2025-04-05T14:59:52.09173Z",
          "iopub.status.busy": "2025-04-05T14:59:52.091455Z",
          "iopub.status.idle": "2025-04-05T14:59:52.110947Z",
          "shell.execute_reply": "2025-04-05T14:59:52.109947Z",
          "shell.execute_reply.started": "2025-04-05T14:59:52.091706Z"
        },
        "id": "JQBAtAQn9njy",
        "trusted": true
      },
      "outputs": [],
      "source": [
        "X = new['Sentence']\n",
        "Y = new.drop(columns=['Sentence'],axis=1)"
      ]
    },
    {
      "cell_type": "code",
      "execution_count": null,
      "metadata": {
        "execution": {
          "iopub.execute_input": "2025-04-05T14:59:52.112194Z",
          "iopub.status.busy": "2025-04-05T14:59:52.111894Z",
          "iopub.status.idle": "2025-04-05T14:59:52.131023Z",
          "shell.execute_reply": "2025-04-05T14:59:52.130078Z",
          "shell.execute_reply.started": "2025-04-05T14:59:52.112159Z"
        },
        "id": "ES-WIXIb9njy",
        "trusted": true
      },
      "outputs": [],
      "source": [
        "X_train1,X_test1,y_train1,y_test1 = train_test_split(X,Y,test_size=0.2,random_state=42)"
      ]
    },
    {
      "cell_type": "code",
      "execution_count": null,
      "metadata": {
        "execution": {
          "iopub.execute_input": "2025-04-05T14:59:52.132568Z",
          "iopub.status.busy": "2025-04-05T14:59:52.132043Z",
          "iopub.status.idle": "2025-04-05T14:59:52.250049Z",
          "shell.execute_reply": "2025-04-05T14:59:52.248992Z",
          "shell.execute_reply.started": "2025-04-05T14:59:52.132528Z"
        },
        "id": "5EZinJHz9njy",
        "trusted": true
      },
      "outputs": [],
      "source": [
        "from sklearn.feature_extraction.text import CountVectorizer\n",
        "new_vectorizer = CountVectorizer()\n",
        "X_train1_vectorized = new_vectorizer.fit_transform(X_train1)\n",
        "X_test1_vectorized = new_vectorizer.transform(X_test1)"
      ]
    },
    {
      "cell_type": "code",
      "execution_count": null,
      "metadata": {
        "execution": {
          "iopub.execute_input": "2025-04-05T14:59:52.25127Z",
          "iopub.status.busy": "2025-04-05T14:59:52.250971Z",
          "iopub.status.idle": "2025-04-05T14:59:52.254731Z",
          "shell.execute_reply": "2025-04-05T14:59:52.253723Z",
          "shell.execute_reply.started": "2025-04-05T14:59:52.251244Z"
        },
        "id": "hVntu2o39njy",
        "trusted": true
      },
      "outputs": [],
      "source": [
        "# X_train1_vectorized = np.array(X_train1_vectorized)\n",
        "# X_train1_vectorized"
      ]
    },
    {
      "cell_type": "code",
      "execution_count": null,
      "metadata": {
        "execution": {
          "iopub.execute_input": "2025-04-05T14:59:52.256188Z",
          "iopub.status.busy": "2025-04-05T14:59:52.255821Z",
          "iopub.status.idle": "2025-04-05T14:59:52.273736Z",
          "shell.execute_reply": "2025-04-05T14:59:52.272648Z",
          "shell.execute_reply.started": "2025-04-05T14:59:52.256137Z"
        },
        "id": "ssFK7jwz9njy",
        "trusted": true
      },
      "outputs": [],
      "source": [
        "# from sklearn.multioutput import MultiOutputClassifier\n",
        "# from sklearn.metrics import accuracy_score, classification_report,confusion_matrix\n",
        "# from sklearn.linear_model import LogisticRegression\n",
        "\n",
        "# regressor1 = MultiOutputClassifier(LogisticRegression(max_iter=5000))\n",
        "# regressor1.fit(X_train1_vectorized,y_train1)\n",
        "\n",
        "# x_test1_pred = regressor1.predict(X_test1_vectorized)\n",
        "# x_test1_accuracy = accuracy_score(x_test1_pred,y_test1)\n",
        "\n",
        "# print(\"The accuracy of test set is: {}\".format(x_test1_accuracy))"
      ]
    },
    {
      "cell_type": "code",
      "execution_count": null,
      "metadata": {
        "execution": {
          "iopub.execute_input": "2025-04-05T14:59:52.275037Z",
          "iopub.status.busy": "2025-04-05T14:59:52.274752Z",
          "iopub.status.idle": "2025-04-05T14:59:52.293792Z",
          "shell.execute_reply": "2025-04-05T14:59:52.292878Z",
          "shell.execute_reply.started": "2025-04-05T14:59:52.275012Z"
        },
        "id": "KDh283tb9njz",
        "trusted": true
      },
      "outputs": [],
      "source": [
        "# x_test1_pred = regressor1.predict(X_test1_vectorized)\n",
        "# x_test1_accuracy = accuracy_score(x_test1_pred,y_test1)\n",
        "\n",
        "# print(\"The accuracy of test set is: {}\".format(x_test1_accuracy))"
      ]
    },
    {
      "cell_type": "markdown",
      "metadata": {
        "id": "69QNmFaA9njz"
      },
      "source": [
        "# ML Models"
      ]
    },
    {
      "cell_type": "code",
      "execution_count": null,
      "metadata": {
        "execution": {
          "iopub.execute_input": "2025-04-05T14:59:52.295303Z",
          "iopub.status.busy": "2025-04-05T14:59:52.294936Z",
          "iopub.status.idle": "2025-04-05T14:59:52.628237Z",
          "shell.execute_reply": "2025-04-05T14:59:52.627346Z",
          "shell.execute_reply.started": "2025-04-05T14:59:52.295275Z"
        },
        "id": "FDN9vCaG9njz",
        "trusted": true
      },
      "outputs": [],
      "source": [
        "from sklearn.linear_model import LogisticRegression # Logistic Regression\n",
        "from sklearn.multioutput import MultiOutputClassifier # Multi Output Classifier\n",
        "from sklearn.ensemble import RandomForestClassifier # RandomForest Classifier\n",
        "from sklearn.ensemble import GradientBoostingClassifier # GradientBoost Classifier\n",
        "from sklearn.model_selection import GridSearchCV\n",
        "from sklearn.metrics import accuracy_score, classification_report,confusion_matrix"
      ]
    },
    {
      "cell_type": "code",
      "execution_count": null,
      "metadata": {
        "execution": {
          "iopub.execute_input": "2025-04-05T14:59:52.629486Z",
          "iopub.status.busy": "2025-04-05T14:59:52.629217Z",
          "iopub.status.idle": "2025-04-05T14:59:52.633827Z",
          "shell.execute_reply": "2025-04-05T14:59:52.632952Z",
          "shell.execute_reply.started": "2025-04-05T14:59:52.629462Z"
        },
        "id": "CgfFoF8h9njz",
        "trusted": true
      },
      "outputs": [],
      "source": [
        "models = {\n",
        "    \"Logistic Regression\":LogisticRegression(max_iter=10000),\n",
        "    \"Random Forest\":RandomForestClassifier(),\n",
        "    \"GradientBoosting\":GradientBoostingClassifier()\n",
        "}\n",
        "params = {\n",
        "    \"Logistic Regression\":{},\n",
        "    \"Random Forest\":{},\n",
        "    \"GradientBoosting\":{}\n",
        "}"
      ]
    },
    {
      "cell_type": "code",
      "execution_count": null,
      "metadata": {
        "execution": {
          "iopub.execute_input": "2025-04-05T14:59:52.635046Z",
          "iopub.status.busy": "2025-04-05T14:59:52.634739Z",
          "iopub.status.idle": "2025-04-05T14:59:52.655634Z",
          "shell.execute_reply": "2025-04-05T14:59:52.654768Z",
          "shell.execute_reply.started": "2025-04-05T14:59:52.635019Z"
        },
        "id": "j9ZeRaxO9nj0",
        "trusted": true
      },
      "outputs": [],
      "source": [
        "def evaluate_models(X_train, Y_train,X_test,Y_test,models,param):\n",
        "        report = {}\n",
        "\n",
        "        for i in range(len(list(models))):\n",
        "            model = list(models.values())[i]\n",
        "            para=param[list(models.keys())[i]]\n",
        "\n",
        "            gs = GridSearchCV(model,para,cv=3)\n",
        "            gs.fit(X_train,Y_train)\n",
        "\n",
        "            # logging.info(f'Hyperparameter {gs} filled')\n",
        "\n",
        "            model.set_params(**gs.best_params_)\n",
        "            model.fit(X_train,Y_train)\n",
        "\n",
        "\n",
        "            #model.fit(X_train, y_train)  # Train model\n",
        "\n",
        "            y_train_pred = model.predict(X_train)\n",
        "\n",
        "            y_test_pred = model.predict(X_test)\n",
        "\n",
        "            train_model_score = accuracy_score(Y_train, y_train_pred)\n",
        "\n",
        "            test_model_score = accuracy_score(Y_test, y_test_pred)\n",
        "\n",
        "            report[list(models.keys())[i]] = test_model_score\n",
        "\n",
        "        return report"
      ]
    },
    {
      "cell_type": "code",
      "execution_count": null,
      "metadata": {
        "execution": {
          "iopub.execute_input": "2025-04-05T14:59:52.657049Z",
          "iopub.status.busy": "2025-04-05T14:59:52.656702Z",
          "iopub.status.idle": "2025-04-05T15:00:40.194774Z",
          "shell.execute_reply": "2025-04-05T15:00:40.19369Z",
          "shell.execute_reply.started": "2025-04-05T14:59:52.657016Z"
        },
        "id": "7SxjOvtz9nj0",
        "trusted": true
      },
      "outputs": [],
      "source": [
        "model_report:dict=evaluate_models(X_train_vectorized,y_train,X_test_vectorized,y_test,models,params)\n",
        "\n",
        "## To get best model score from dict\n",
        "best_model_score = max(sorted(model_report.values()))\n",
        "\n",
        "## To get best model name from dict\n",
        "\n",
        "best_model_name = list(model_report.keys())[\n",
        "list(model_report.values()).index(best_model_score)\n",
        "]\n",
        "best_model = models[best_model_name]\n",
        "\n",
        "print(\"This is the best model:\")\n",
        "print(best_model_name)\n",
        "\n",
        "model_names = list(params.keys())\n",
        "\n",
        "actual_model=\"\"\n",
        "\n",
        "for model in model_names:\n",
        "    if best_model_name == model:\n",
        "        actual_model = actual_model + model\n",
        "\n",
        "        best_params = params[actual_model]"
      ]
    },
    {
      "cell_type": "code",
      "execution_count": null,
      "metadata": {
        "execution": {
          "iopub.execute_input": "2025-04-05T15:00:40.195904Z",
          "iopub.status.busy": "2025-04-05T15:00:40.195646Z",
          "iopub.status.idle": "2025-04-05T15:00:40.200343Z",
          "shell.execute_reply": "2025-04-05T15:00:40.19936Z",
          "shell.execute_reply.started": "2025-04-05T15:00:40.195881Z"
        },
        "id": "pONXsZo49nj1",
        "trusted": true
      },
      "outputs": [],
      "source": [
        "models1 = {\n",
        "    \"MOC-LR\":MultiOutputClassifier(LogisticRegression(max_iter=10000)),\n",
        "    \"MOC-RF\":MultiOutputClassifier(RandomForestClassifier()),\n",
        "    \"MOC-GB\":MultiOutputClassifier(GradientBoostingClassifier())\n",
        "}\n",
        "params1 = {\n",
        "    \"MOC-LR\":{},\n",
        "    \"MOC-RF\":{},\n",
        "    \"MOC-GB\":{}\n",
        "}"
      ]
    },
    {
      "cell_type": "code",
      "execution_count": null,
      "metadata": {
        "execution": {
          "iopub.execute_input": "2025-04-05T15:00:40.201751Z",
          "iopub.status.busy": "2025-04-05T15:00:40.201397Z",
          "iopub.status.idle": "2025-04-05T15:00:40.221372Z",
          "shell.execute_reply": "2025-04-05T15:00:40.220213Z",
          "shell.execute_reply.started": "2025-04-05T15:00:40.201725Z"
        },
        "id": "P1ZOKcPR9nj2",
        "trusted": true
      },
      "outputs": [],
      "source": [
        "def evaluate_models(X_train, Y_train,X_test,Y_test,models,param):\n",
        "        report = {}\n",
        "\n",
        "        for i in range(len(list(models))):\n",
        "            model = list(models.values())[i]\n",
        "            para=param[list(models.keys())[i]]\n",
        "\n",
        "            gs = GridSearchCV(model,para,cv=3)\n",
        "            gs.fit(X_train,Y_train)\n",
        "\n",
        "            # logging.info(f'Hyperparameter {gs} filled')\n",
        "\n",
        "            model.set_params(**gs.best_params_)\n",
        "            model.fit(X_train,Y_train)\n",
        "\n",
        "\n",
        "            #model.fit(X_train, y_train)  # Train model\n",
        "\n",
        "            y_train_pred = model.predict(X_train)\n",
        "\n",
        "            y_test_pred = model.predict(X_test)\n",
        "\n",
        "            train_model_score = accuracy_score(Y_train, y_train_pred)\n",
        "\n",
        "            test_model_score = accuracy_score(Y_test, y_test_pred)\n",
        "\n",
        "            report[list(models.keys())[i]] = test_model_score\n",
        "\n",
        "        return report"
      ]
    },
    {
      "cell_type": "code",
      "execution_count": null,
      "metadata": {
        "execution": {
          "iopub.execute_input": "2025-04-05T15:00:40.222611Z",
          "iopub.status.busy": "2025-04-05T15:00:40.222343Z",
          "iopub.status.idle": "2025-04-05T15:02:01.370906Z",
          "shell.execute_reply": "2025-04-05T15:02:01.369904Z",
          "shell.execute_reply.started": "2025-04-05T15:00:40.222588Z"
        },
        "id": "A7WyH6lk9nj2",
        "trusted": true
      },
      "outputs": [],
      "source": [
        "model_report:dict=evaluate_models(X_train1_vectorized,y_train1,X_test1_vectorized,y_test1,models1,params1)\n",
        "\n",
        "## To get best model score from dict\n",
        "best_model_score = max(sorted(model_report.values()))\n",
        "\n",
        "## To get best model name from dict\n",
        "\n",
        "best_model_name = list(model_report.keys())[\n",
        "list(model_report.values()).index(best_model_score)\n",
        "]\n",
        "best_model = models1[best_model_name]\n",
        "\n",
        "print(\"This is the best model:\")\n",
        "print(best_model_name)\n",
        "\n",
        "model_names = list(params1.keys())\n",
        "\n",
        "actual_model=\"\"\n",
        "\n",
        "for model in model_names:\n",
        "    if best_model_name == model:\n",
        "        actual_model = actual_model + model\n",
        "\n",
        "        best_params = params1[actual_model]"
      ]
    },
    {
      "cell_type": "code",
      "execution_count": null,
      "metadata": {
        "execution": {
          "iopub.execute_input": "2025-04-05T15:02:01.372577Z",
          "iopub.status.busy": "2025-04-05T15:02:01.372164Z",
          "iopub.status.idle": "2025-04-05T15:02:04.714119Z",
          "shell.execute_reply": "2025-04-05T15:02:04.713205Z",
          "shell.execute_reply.started": "2025-04-05T15:02:01.372536Z"
        },
        "id": "PvZt9Xu89nj3",
        "trusted": true
      },
      "outputs": [],
      "source": [
        "from sklearn.metrics import accuracy_score, classification_report,confusion_matrix\n",
        "from sklearn.linear_model import LogisticRegression\n",
        "\n",
        "gbc = GradientBoostingClassifier()\n",
        "gbc.fit(X_train_vectorized,y_train)\n",
        "\n",
        "x_test_pred = gbc.predict(X_test_vectorized)\n",
        "x_test_accuracy = accuracy_score(x_test_pred,y_test)\n",
        "\n",
        "print(\"The accuracy of test set is: {}\".format(x_test_accuracy))"
      ]
    },
    {
      "cell_type": "code",
      "execution_count": null,
      "metadata": {
        "id": "gHOqdHEC9nj4",
        "trusted": true
      },
      "outputs": [],
      "source": []
    }
  ],
  "metadata": {
    "colab": {
      "name": "Sentiment Analysis",
      "provenance": []
    },
    "kaggle": {
      "accelerator": "none",
      "dataSources": [
        {
          "datasetId": 622510,
          "sourceId": 1192499,
          "sourceType": "datasetVersion"
        }
      ],
      "dockerImageVersionId": 30918,
      "isGpuEnabled": false,
      "isInternetEnabled": true,
      "language": "python",
      "sourceType": "notebook"
    },
    "kernelspec": {
      "display_name": "env2",
      "language": "python",
      "name": "python3"
    },
    "language_info": {
      "codemirror_mode": {
        "name": "ipython",
        "version": 3
      },
      "file_extension": ".py",
      "mimetype": "text/x-python",
      "name": "python",
      "nbconvert_exporter": "python",
      "pygments_lexer": "ipython3",
      "version": "3.11.7"
    }
  },
  "nbformat": 4,
  "nbformat_minor": 0
}